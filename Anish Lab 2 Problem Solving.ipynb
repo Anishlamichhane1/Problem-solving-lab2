{
 "cells": [
  {
   "cell_type": "markdown",
   "id": "068cf105-3e4e-4c3e-ab8c-18ca252edd91",
   "metadata": {},
   "source": [
    "# Problem Solving — Solutions\n",
    "Name: Anish Lamichhane | Class: CPSMA-3933-01 | Date: 09/26/2025\n"
   ]
  },
  {
   "cell_type": "markdown",
   "id": "636f2761-16df-431d-b068-10a1b4a8727b",
   "metadata": {},
   "source": [
    "## 1) Factorials\n",
    "We count trailing zeros of 1000! by summing ⌊1000/5⌋ + ⌊1000/25⌋ + ⌊1000/125⌋ + ⌊1000/625⌋.\n"
   ]
  },
  {
   "cell_type": "code",
   "execution_count": 13,
   "id": "f2cdc499-c608-40d8-8d6b-d5dccedd6fff",
   "metadata": {},
   "outputs": [
    {
     "name": "stdout",
     "output_type": "stream",
     "text": [
      "Trailing zeros in 1000!: 249\n",
      "Digits in 1000!: 2568\n"
     ]
    }
   ],
   "source": [
    "import math\n",
    "\n",
    "def trailing_zeros_factorial(n: int) -> int:\n",
    "    s, d = 0, 5\n",
    "    while n >= d:\n",
    "        s += n // d\n",
    "        d *= 5\n",
    "    return s\n",
    "\n",
    "tz_1000 = trailing_zeros_factorial(1000)\n",
    "digits_1000_fact = len(str(math.factorial(1000))) \n",
    "\n",
    "print(\"Trailing zeros in 1000!:\", tz_1000)          \n",
    "print(\"Digits in 1000!:\", digits_1000_fact)         \n"
   ]
  },
  {
   "cell_type": "markdown",
   "id": "9954c8ef-ccd3-433c-8430-d285e39c6f51",
   "metadata": {},
   "source": [
    "## 2) Big Numbers\n",
    "Find the sum of the digits of 100**100 - 26.\n"
   ]
  },
  {
   "cell_type": "code",
   "execution_count": 14,
   "id": "90ed4419-d525-4002-819c-f9c07c316856",
   "metadata": {},
   "outputs": [
    {
     "name": "stdout",
     "output_type": "stream",
     "text": [
      "1793\n"
     ]
    }
   ],
   "source": [
    "x = 100**100 - 26\n",
    "sum_digits = sum(int(d) for d in str(x))\n",
    "print(sum_digits)  \n"
   ]
  },
  {
   "cell_type": "markdown",
   "id": "d6e641c2-3ce7-4fd6-af9c-65811875f20e",
   "metadata": {},
   "source": [
    "## 3) Handshakes (Soccer Teams)\n",
    "Cross-team: 11×11. Within winners: C(11,2).\n"
   ]
  },
  {
   "cell_type": "code",
   "execution_count": 15,
   "id": "cfc04d3d-c4fe-4293-8dc8-61ee699e465e",
   "metadata": {},
   "outputs": [
    {
     "name": "stdout",
     "output_type": "stream",
     "text": [
      "Cross-team: 121\n",
      "Within winners: 55\n",
      "Total: 176\n"
     ]
    }
   ],
   "source": [
    "from math import comb\n",
    "cross_team = 11 * 11\n",
    "within_winners = comb(11, 2)\n",
    "total_handshakes = cross_team + within_winners\n",
    "print(\"Cross-team:\", cross_team)          \n",
    "print(\"Within winners:\", within_winners)  \n",
    "print(\"Total:\", total_handshakes)         \n"
   ]
  },
  {
   "cell_type": "markdown",
   "id": "6e2ecf0d-375f-4091-805d-2ad8f3120db8",
   "metadata": {},
   "source": [
    "## 4) Harder Handshakes\n",
    "Five couples. No one shakes a spouse. Everyone gives a different count.\n",
    "Counts must be 0..8 among the 9 people other than Mr. Smith. Handshake counts pair to 8 (0↔8, 1↔7, 2↔6, 3↔5), so Mrs. Smith is either 0 or 8. That forces a unique pairing chain, leaving Mr. Smith with count 4.\n",
    "**Answer: 4**\n"
   ]
  }
 ],
 "metadata": {
  "kernelspec": {
   "display_name": "anaconda-ai-2024.04-py310",
   "language": "python",
   "name": "conda-env-anaconda-ai-2024.04-py310-py"
  },
  "language_info": {
   "codemirror_mode": {
    "name": "ipython",
    "version": 3
   },
   "file_extension": ".py",
   "mimetype": "text/x-python",
   "name": "python",
   "nbconvert_exporter": "python",
   "pygments_lexer": "ipython3",
   "version": "3.10.13"
  }
 },
 "nbformat": 4,
 "nbformat_minor": 5
}
